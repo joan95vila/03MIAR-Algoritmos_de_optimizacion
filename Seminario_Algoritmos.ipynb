{
  "cells": [
    {
      "cell_type": "markdown",
      "metadata": {
        "id": "view-in-github",
        "colab_type": "text"
      },
      "source": [
        "<a href=\"https://colab.research.google.com/github/joan95vila/03MIAR-Algoritmos_de_optimizacion/blob/main/Seminario_Algoritmos.ipynb\" target=\"_parent\"><img src=\"https://colab.research.google.com/assets/colab-badge.svg\" alt=\"Open In Colab\"/></a>"
      ]
    },
    {
      "cell_type": "markdown",
      "metadata": {
        "id": "hVbXYX-RfPWh"
      },
      "source": [
        "# Algoritmos de optimización - Seminario<br>\n",
        "Nombre y Apellidos:  Joan Vilà Viñuela <br>\n",
        "Url: https://github.com/.../03MAIR---Algoritmos-de-Optimizacion---2019/tree/master/SEMINARIO<br>\n",
        "Problema: 1\n",
        "> 1. Sesiones de doblaje <br>\n",
        ">2. Organizar los horarios de partidos de La Liga<br>\n",
        ">3. Combinar cifras y operaciones\n",
        "\n",
        "Descripción del problema:\n",
        "\n",
        "Se precisa coordinar el doblaje de una película. Los actores del doblaje deben coincidir en las\n",
        "tomas en las que sus personajes aparecen juntos en las diferentes tomas. Los actores de\n",
        "doblaje cobran todos la misma cantidad por cada día que deben desplazarse hasta el estudio de\n",
        "grabación independientemente del número de tomas que se graben. No es posible grabar más\n",
        "de 6 tomas por día. El objetivo es planificar las sesiones por día de manera que el gasto por los\n",
        "servicios de los actores de doblaje sea el menor posible. Los datos son:\n",
        "\n",
        "Número de actores: 10\n",
        "Número de tomas : 30\n",
        "Actores/Tomas: https://bit.ly/36D8IuK\n",
        "- 1 indica que el actor participa en la toma\n",
        "- 0 en caso contrario\n",
        "\n",
        "(*) Indica que la respuesta es obligatoria  "
      ]
    },
    {
      "cell_type": "markdown",
      "metadata": {
        "id": "3_-exlrTgLd-"
      },
      "source": [
        "(*)¿Cuantas posibilidades hay sin tener en cuenta las restricciones?<br>"
      ]
    },
    {
      "cell_type": "markdown",
      "metadata": {
        "id": "WfCUqJyKhPcw"
      },
      "source": [
        "Respuesta"
      ]
    },
    {
      "cell_type": "markdown",
      "metadata": {
        "id": "iq6Fe32MgpDX"
      },
      "source": [
        "<div style=\"color:orange\">\n",
        "\n",
        "Teniendo en cuenta de que las únicas restricciones que hay, son: que no se puede grabar más de 6 tomas por día, y, que por cada toma, es requerido que un grupo de actores concretos y definidos estén presentes de forma simultánea (mismo día), a continuación, se indica y calcúla el número total de combinaciones o soluciones que se pueden encontrar sín tener en cuenta las restricciones anteriores.\n",
        "\n",
        "Para dicho cálculo, se supone que los dias que dura el rodaje tienen que ser continuos, es decir, que no puede haber ningún dia de parón durante el rodaje. En todos los dias hay almenos una toma hasta que ya no queden más para rodar. De no suponer este hecho, el problema tendria un conjunto infinito de soluciones, dado que, por ejemplo, entre toma y toma podriamos tener un número infinito de dias de espera, de parón de rodaje.\n",
        "\n",
        "Otra suposición será a consecuencia de la forma en como se ha formalizado el problema, una lista donde cada posición será una toma y contendrá el número que la identifica (pudiendo ser uno entre el 1 y el 30). Después, dicha lista se podrá dividir en sublistas donde cada una representará las tomas de un día específico. Por ende, y para simplificar el cálculo de combinaciones posibles de los resultados que se pueden obtener sín restricciones, se supondrá que el orden de rodaje de las tomas de un mismo día (sublista) importa, así como el orden de rodaje de las distintas sublistas también, aún sabiendo que, ha efectos prácticas, dichas soluciones tendrían el mismo resultado final (mismo coste en la función de evaluación o coste), es decir, se pagaria el mismo sueldo a cada actor al final del rodaje.\n",
        "\n",
        "Así pues, el cálculo de soluciones posibles se divide de la siguiente forma:\n",
        "1. Se toman las distitas formas en que se pueden crear la lista inicial, que matematicamente se traduce como las permutaciones de las 30 tomas totales que se tienen, siendo 30!.\n",
        "2. Se calcula las distintas sublistas que se pueden crear de la lista anterior. Para ello, la forma más fácil de calcularlo es pensando que se tienen 29 separadores, uno entre cada toma, y que se puede coger desde ninguno hasta todos ellos. Cuando se coge un separador, la lista queda divirida en dos sublistas, una con las tomas que quedan en la derecha del separador, y otra con las tomas que quedan a la izquierda. Hay que tener en cuenta que habrá varias combinaciones de listas posibles, no todas ellas deberán de tener el mismo tamaño. Recordar que cada sublista representan las tomas de un día en concreto. Después, si se siguen cogiendo separadores, simplemente seria el mismo procedimineto pero en lugar de dividir la lista entre dos sublistas, ahora se dividiria entre n sublistas, siendo n el número de separadores cogidos +1. De esta forma, seriamos capazes de contablizar todas las combinaciones de sublistas, o soluciones, que podriamos tener.\n",
        "\n",
        "    Par dicho cálculo, se usará la combinatoria, quedando representado matematicamente como:\n",
        "    $\\binom{29}{0} + \\binom{29}{1} + \\dots + \\binom{29}{28} + \\binom{29}{29} = \\sum_{i=0}^{29}\\binom{29}{i}$\n",
        "\n",
        "Por último, si juntamos ambos cálculos, el 1 con el 2, tendremos el total de soluciones posibles. Para poder juntar ambos cálculos basta con multiplicarlos, ya que, el primero nos da el orden en el que las tomas se van a grabar, mientras que, el segundo, nos da su distribución en dias. Recordar que para simplificar el cálculo se ha supuesto que el orden de como se ruedan las tomas, así como la distribución de ellas por cada día importa. Finalmente, el núemro total de soluciones sín restricción y con las suposiciones mencionadas serian: \n",
        "\n",
        "$30! \\times \\sum_{i=0}^{29}\\binom{29}{i} \\approx 1.42\\times10^{41}$\n",
        "\n",
        "PD: Si se quisiera calcular el número de soluciones distintas posibles, por cada distribución de dias distintos, se le tendría que dividir por el factorial del número total de sublistas que se tienen, o, visto de otro modo, el número de dias que duraria el rodaje, ya que, el orden de cambiar las tomas de un día por las de otro nos daria el mismo resultado. Por otro lado, por tal de que el orden de las tomas que se ruedan en un día específico no nos importara, el orden de estas tampoco cambiaría el importe a pagar a los diferentes actores, se tendría que dividir el tamaño de cada sublista por el factorial de su tamaño."
      ]
    },
    {
      "cell_type": "markdown",
      "metadata": {
        "id": "FRveF_OBwb2_"
      },
      "source": [
        "¿Cuantas posibilidades hay teniendo en cuenta todas las restricciones."
      ]
    },
    {
      "cell_type": "markdown",
      "metadata": {
        "id": "laMTnQCAwb3A"
      },
      "source": [
        "Respuesta"
      ]
    },
    {
      "cell_type": "markdown",
      "metadata": {
        "id": "YcalCG4Bwb3B"
      },
      "source": [
        "<div style=\"color:orange\">\n",
        "\n",
        "Si se tiene en cuenta las restricciones, se disminuirá el espacio de soluciones posibles, y, por ende, se debería de tardar menos en encontrar la solución óptima o en su defecto, una buena solución.\n",
        "\n",
        "La primera cosa a notar es que dado a que se tienen 30 tomas y no se pueden rodar más de seis tomas al día, podemos suponer que la solución óptima se tiene que encontrar dentro de la siguiente distribución: 6 tomas por día, teniendo un total de 5 dias de rodaje ( $6·5=30$ ), de otra forma, con más dias de rodaje, significaria que almenos un día tendria menos de 6 tomas y por ende, dada la naturaleza del problema, que cada día que un actor va a rodaje se le tiene que pagar, como mínimo se podria encontrar una distribución que igualará a la mejor solución con la distribución propuesta anteriormente, o peor, en ningún caso se mejoraría el coste final.\n",
        "\n",
        "Teniendo en cuenta la suposición anterior, y, que respecto a las suposiciones hechas en el cálculo de soluciones posibles sín restricciones; esta vez el orden de tomas rodadas en un mismo día si no nos va a importar para el cálculo, dado que con la restricción de 6 tomas por día nos facilita mucho el cálculo sín importar el orden. Tenemos que el total de soluciones posibles que nos podemos encontrar son:\n",
        "\n",
        "$\\binom{30}{6}\\binom{24}{6}\\binom{18}{6}\\binom{12}{6}\\binom{6}{6} \\approx 1.37\\times10^{18}$, que logicamente, son muchas menos que si no tubieramos restricciones.\n",
        "\n",
        "El cálculo se basa en encontrar todas las combinaciones posibles, teniendo en cuenta que cada día hay 6 tomas menos a elegir respecto al día anterior. Si además quisieramos saber el número de soluciones distintas, se debería de dividir el resultado entre 5!, ya que el orden de los dias no nos importaría para el cálculo de las soluciones únicas.\n",
        "\n",
        "PD: para simplificar el problema, en los algoritmos sigientes, simplemente se escogerá el espacio de soluciones completo, es decir, importando el orden en todo. De esta forma el espacio de busqueda sería simplemente $30! \\approx 2.65\\times10^{32}$."
      ]
    },
    {
      "cell_type": "markdown",
      "metadata": {
        "id": "dzynfVJahHoY"
      },
      "source": [
        "Modelo para el espacio de soluciones<br>\n",
        "(*) ¿Cual es la estructura de datos que mejor se adapta al problema? Argumentalo.(Es posible que hayas elegido una al principio y veas la necesidad de cambiar, arguentalo)\n"
      ]
    },
    {
      "cell_type": "markdown",
      "metadata": {
        "id": "xFIJrOwKi2Ti"
      },
      "source": [
        "Respuesta"
      ]
    },
    {
      "cell_type": "markdown",
      "metadata": {
        "id": "bwwbbbgXwb3D"
      },
      "source": [
        "<div style=\"color:orange\">\n",
        "\n",
        "Tal y como ya se ha mencionado en los apartados anteriores, la estructura o formalización que se ha decidido emplear para este problema a sido la creación de una lista cuyo valor de sus elementos corresponden al identificador de cada toma, y por ende, cada posición tenerá un valor único. Al mismo tiempo, cada 6 posiciones supondrán las tomas que se rodarán en un día. \n",
        "\n",
        "Un ejemplo sería el siguiente:\n",
        "(toma #1, toma #2, toma #3, toma #4, toma #5, toma #6, toma #7, toma #8, ... toma #30 ), donde las tomas del primer día irian de la 1 a la 6, las del segundo de la 7 a la 12 y así sucesivamente.\n",
        "\n",
        "Se ha decidido formalizar el problema de esta forma y no otra, ya que, es una forma muy simple de hacerlo y implementarlo. Al mismo tiempo, se descartan resultados que seguro no darian paso a una solución óptima, como, por ejemplo, para el día uno, seleccionar a actores que entre ellos no pudieran realizar ninguna toma, dado que podrian no estar todos los actores necesarias para rodarla, o, en exeso, tener actores que para ese día, junto a los otros actores presentes, no pudieran formar parte de ningúna toma, y por ende, seria un sueldo extra inecesario a pagar.\n",
        "\n",
        "Un ejmplo de formalización con este tipo de problema pudo haber sido la misma idea pero en lugar de tener una lista de 30 posiciones, se podria haber tenido una matriz binaria de 10x6 (actores x dias), donde en cada fila i, mediante 1s y 0s, se representaría que actores tendrían que venir y cuales no para el día i."
      ]
    },
    {
      "cell_type": "markdown",
      "metadata": {
        "id": "iWoZf3Lbwb3D"
      },
      "source": [
        "<div style=\"color:orange\">\n",
        "\n",
        "Respecto el código, será necesario importar ciertas librerías y establecer ciertas constantes para que la función objetivo y algoritmos de búsqueda implementados puedan funcionar correctamente.\n",
        "\n",
        "En el siguiente bloque se importan estas librerías y se establecen las constantes necesarias. También se definirán aquellas funciones que no formen parte de ningún algoritmo pero si ayudan a visualizar los resultados."
      ]
    },
    {
      "cell_type": "code",
      "execution_count": 1,
      "metadata": {
        "id": "nk71BULYwb3E"
      },
      "outputs": [],
      "source": [
        "import numpy as np\n",
        "import itertools\n",
        "import random\n",
        "\n",
        "# Parámetros o constantes del problema\n",
        "NUM_ACTORS = 10\n",
        "NUM_SHOTS = 30\n",
        "\n",
        "# Restricciones\n",
        "MAX_NUM_SHOTS_DAY = 6 \n",
        "MIN_DAYS = NUM_SHOTS/MAX_NUM_SHOTS_DAY\n",
        "\n",
        "SET_ACTORS_SHOTS = (\n",
        "    # 1 2 3 4 5 6 7 8 9 10\n",
        "    ( 1,1,1,1,1,0,0,0,0,0 ), #1\n",
        "    ( 0,0,1,1,1,0,0,0,0,0 ), #2\n",
        "    ( 0,1,0,0,1,0,1,0,0,0 ), #3\n",
        "    ( 1,1,0,0,0,0,1,1,0,0 ), #4\n",
        "    ( 1,1,0,1,1,0,0,0,0,0 ), #5\n",
        "    ( 1,1,0,1,1,0,0,0,0,0 ), #6\n",
        "    ( 1,1,0,1,1,0,0,0,0,0 ), #7\n",
        "    ( 1,1,0,0,0,1,0,0,0,0 ), #8\n",
        "    ( 1,1,0,1,0,0,0,0,0,0 ), #9\n",
        "    ( 1,1,0,0,0,1,0,0,1,0 ), #10\n",
        "    ( 1,1,1,0,1,0,0,1,0,0 ), #11\n",
        "    ( 1,1,1,1,0,1,0,0,0,0 ), #12\n",
        "    ( 1,0,0,1,1,0,0,0,0,0 ), #13\n",
        "    ( 1,0,1,0,0,1,0,0,0,0 ), #14\n",
        "    ( 1,1,0,0,0,0,1,0,0,0 ), #15\n",
        "    ( 0,0,0,1,0,0,0,0,0,1 ), #16\n",
        "    ( 1,0,1,0,0,0,0,0,0,0 ), #17\n",
        "    ( 0,0,1,0,0,1,0,0,0,0 ), #18\n",
        "    ( 1,0,1,0,0,0,0,0,0,0 ), #19\n",
        "    ( 1,0,1,1,1,0,0,0,0,0 ), #20\n",
        "    ( 0,0,0,0,0,1,0,1,0,0 ), #21\n",
        "    ( 1,1,1,1,0,0,0,0,0,0 ), #22\n",
        "    ( 1,0,1,0,0,0,0,0,0,0 ), #23\n",
        "    ( 0,0,1,0,0,1,0,0,0,0 ), #24\n",
        "    ( 1,1,0,1,0,0,0,0,0,1 ), #25\n",
        "    ( 1,0,1,0,1,0,0,0,1,0 ), #26\n",
        "    ( 0,0,0,1,1,0,0,0,0,0 ), #27\n",
        "    ( 1,0,0,1,0,0,0,0,0,0 ), #28\n",
        "    ( 1,0,0,1,0,0,0,0,0,0 ), #29\n",
        "    ( 1,0,0,1,0,0,0,0,0,0 ), #30\n",
        ")\n",
        "\n",
        "SET_ACTORS_SHOTS_DIC = {i+1:shot for i, shot in enumerate(SET_ACTORS_SHOTS)}\n",
        "\n",
        "# Funciones de visualización de resultados\n",
        "def print_solution(solution, verbose=True):\n",
        "    str_solution = f\"{' '*6}\\tSHOT 1\\tSHOT 2\\tSHOT 3\\tSHOT 4\\tSHOT 5\\tSHOT 6\\n\"\n",
        "    # se parte la lista de tomas en 6 partes iguales, una por cada día de rodaje\n",
        "    for i, day_shots in enumerate(np.array_split(solution[0], MIN_DAYS)):\n",
        "        str_solution += f\"DAY {i+1}\\t\"\n",
        "        # se separa cada toma de forma individual\n",
        "        for shot in day_shots:\n",
        "            str_solution += f\"{shot}\\t\"\n",
        "        str_solution += '\\n'\n",
        "    # se imprime el coste/salario de la solución/lista que se le ha pasado a la función\n",
        "    str_solution += f'\\nSolution score: {solution[1]}\\n'\n",
        "    if not verbose: str_solution_not_verbose = f'\\nSolution score: {solution[1]}\\n'\n",
        "\n",
        "    if verbose:\n",
        "        print(str_solution)\n",
        "    else:\n",
        "        print(str_solution_not_verbose)"
      ]
    },
    {
      "cell_type": "markdown",
      "metadata": {
        "id": "7Z9U2W7bi-XS"
      },
      "source": [
        "Según el modelo para el espacio de soluciones<br>\n",
        "\n",
        "(*)¿Cual es la función objetivo?"
      ]
    },
    {
      "cell_type": "markdown",
      "metadata": {
        "id": "Lrophxh0wb3G"
      },
      "source": [
        "Respuesta"
      ]
    },
    {
      "cell_type": "markdown",
      "metadata": {
        "id": "xprzGwFAwb3G"
      },
      "source": [
        "<div style=\"color:orange\">\n",
        "\n",
        "La función objetivo divide la secuencia de tomas que se le pasa entre 6 partes iguales (cada parte representan las tomas de un día). Después, por cada parte calcula el número de actores totales que le corresponden para finalmente sumar el resultado de todas las tomas o dias y devolver el resultado como el coste o valor devuelto por la función, el salario total a pagar."
      ]
    },
    {
      "cell_type": "code",
      "execution_count": 2,
      "metadata": {
        "id": "yfdFHutKwb3G"
      },
      "outputs": [],
      "source": [
        "def eval_function(shots):\n",
        "    \"\"\"\n",
        "    Coste O(i*2j) ~ O(n^2)\n",
        "    \"\"\"\n",
        "    cost = 0\n",
        "    # se parte la lista de tomas en 6 partes iguales, una por cada día de rodaje\n",
        "    for day_shots in np.array_split(shots, MIN_DAYS): # o(i)\n",
        "        total_actors_vector = np.zeros(NUM_ACTORS)\n",
        "        # por cada toma se mira cuantos actores la realizán\n",
        "        for shot in day_shots: # (j)\n",
        "            total_actors_vector += SET_ACTORS_SHOTS_DIC[shot]\n",
        "        # devuelve el número total de actores distitnos que han ido al rodaje por día\n",
        "        cost += np.count_nonzero(total_actors_vector) # o(j)\n",
        "    \n",
        "    return cost"
      ]
    },
    {
      "cell_type": "markdown",
      "metadata": {
        "id": "qobjfyyVwb3H"
      },
      "source": [
        "(*)¿Es un problema de maximización o minimización?"
      ]
    },
    {
      "cell_type": "markdown",
      "metadata": {
        "id": "hBalWLM7j1_d"
      },
      "source": [
        "Respuesta"
      ]
    },
    {
      "cell_type": "markdown",
      "metadata": {
        "id": "pDA-rg3Gj5Lz"
      },
      "source": [
        "<div style=\"color:orange\">\n",
        "\n",
        "Es un problema de minimización dónde se trata de minimizar el salario total que se tendrá que pagar a los actores al final del rodaje. \n",
        "\n",
        "Para ello, se intentará ver cuál debe ser la distribución de tomas diarias para que los actores debán desplazarse cuantos menos dias al estudio mejor. Para cada actor y día que este se haya tenido que desplazar, será una unidad más de salario que se acumulará al coste total de los salarios."
      ]
    },
    {
      "cell_type": "markdown",
      "metadata": {
        "id": "rlnTYgY1j6I2"
      },
      "source": [
        "Diseña un algoritmo para resolver el problema por fuerza bruta"
      ]
    },
    {
      "cell_type": "markdown",
      "metadata": {
        "id": "70rDgxYXkC8r"
      },
      "source": [
        "Respuesta"
      ]
    },
    {
      "cell_type": "code",
      "execution_count": 3,
      "metadata": {
        "id": "CJb5sQ0qkENy",
        "colab": {
          "base_uri": "https://localhost:8080/"
        },
        "outputId": "6e029148-ba3d-4d40-dfce-11ad41a85c0a"
      },
      "outputs": [
        {
          "output_type": "stream",
          "name": "stdout",
          "text": [
            "      \tSHOT 1\tSHOT 2\tSHOT 3\tSHOT 4\tSHOT 5\tSHOT 6\n",
            "DAY 1\t1\t2\t3\t4\t5\t6\t\n",
            "DAY 2\t7\t8\t9\t10\t11\t12\t\n",
            "DAY 3\t13\t14\t15\t16\t17\t18\t\n",
            "DAY 4\t19\t20\t21\t22\t24\t25\t\n",
            "DAY 5\t23\t26\t27\t28\t29\t30\t\n",
            "\n",
            "Solution score: 36\n",
            "\n"
          ]
        }
      ],
      "source": [
        "def brute_force(shots, max_iter=1e4):\n",
        "    \"\"\"\n",
        "    Mira todas las permutaciones totales que tiene la lista que se le pasa y \n",
        "    para cada una de ellas calcula su coste. Devuelve la permutación que menor \n",
        "    coste a obtenido. Coste O(n!+n^2) ~ O(n!)\n",
        "    \"\"\"\n",
        "    best_solution = (None, float('inf'))\n",
        "\n",
        "    permutations = itertools.permutations(shots) # O(n!) !!!\n",
        "    current_solution = next(permutations)\n",
        "    while max_iter > 0:\n",
        "        try:\n",
        "            current_solution = next(permutations)\n",
        "            eval_current_solution = eval_function(current_solution) # O(n^2)\n",
        "            if eval_current_solution < best_solution[1]:\n",
        "                best_solution = current_solution, eval_current_solution\n",
        "\n",
        "            max_iter -= 1\n",
        "\n",
        "        except StopIteration:\n",
        "            break\n",
        "\n",
        "    return best_solution\n",
        "\n",
        "initial_shots = [i for i in range(1, NUM_SHOTS+1)]\n",
        "brute_force_solution = brute_force(initial_shots)\n",
        "\n",
        "print_solution(brute_force_solution)"
      ]
    },
    {
      "cell_type": "markdown",
      "metadata": {
        "id": "tgrnsC2nkFa8"
      },
      "source": [
        "Calcula la complejidad del algoritmo por fuerza bruta"
      ]
    },
    {
      "cell_type": "markdown",
      "metadata": {
        "id": "9eUd3xwckP68"
      },
      "source": [
        "Respuesta"
      ]
    },
    {
      "cell_type": "markdown",
      "metadata": {
        "id": "rvZWwL-ckRST"
      },
      "source": [
        "<div style=\"color:orange\">\n",
        "\n",
        "Dado que se trata de mirar todas sus permutaciones, su complejidad es O(n!). Como era de esperar, dado que es un algoritmo de fuerza burta y la naturaleza del problema, es una complejidad extremadamente elevada, donde a partir de una n no demasiado grande (como más de 15) aplicar este algoritmo empieza a ser inviable por la cantidad de tiempo que requeriría para dar la respuesta.\n",
        "\n",
        "PD: Para más detalles de donde sale el cálculo de la complejidad, cada función tiene comentada las subcomplejidades de cada una de sus partes. Después, se ha utilizado la información que da la página web oficial de python para saber el orden de complejidad de sus fucniones implementadas. Web: https://wiki.python.org/moin/TimeComplexity."
      ]
    },
    {
      "cell_type": "markdown",
      "metadata": {
        "id": "txbrmLmskReM"
      },
      "source": [
        "(*)Diseña un algoritmo que mejore la complejidad del algortimo por fuerza bruta. Argumenta porque crees que mejora el algoritmo por fuerza bruta"
      ]
    },
    {
      "cell_type": "markdown",
      "metadata": {
        "id": "hLrVwt5QkZPD"
      },
      "source": [
        "Respuesta"
      ]
    },
    {
      "cell_type": "markdown",
      "metadata": {
        "id": "r_pNNPMhwb3L"
      },
      "source": [
        "<div style=\"color:orange\">\n",
        "\n",
        "Las primeras aproximaciones que se pueden hacer son con los algoritmos más básicos después del de fuerza bruta son: el de búsqueda aleatoria y búsqueda local. El algorítmo de búsqueda local de este trabajo, se basará en obtener una solución inicial mediante la aplicación previa del algoritmo de búsqueda aleatoria y después explorar localmente dicha solución, mediante varias selecciones de sublistas, reordenandolas y posteriormente ir intercanviando sus elemetos de dos en dos por cada una de las combinaciones obtenidas.\n",
        "\n",
        "PD: El algoritmo de búsqueda local en este caso tiene una complejidad mucho mayor que el de búsqueda aleatoria, esto es normal ya que este último probará muchas más soluciones posibles respecto al primero."
      ]
    },
    {
      "cell_type": "code",
      "execution_count": 4,
      "metadata": {
        "colab": {
          "base_uri": "https://localhost:8080/"
        },
        "id": "6q1a78Slwb3M",
        "outputId": "fa0c739a-1abd-4ce3-afd8-2a9e16522af3"
      },
      "outputs": [
        {
          "output_type": "stream",
          "name": "stdout",
          "text": [
            "RANDOM SEARCH\n",
            "      \tSHOT 1\tSHOT 2\tSHOT 3\tSHOT 4\tSHOT 5\tSHOT 6\n",
            "DAY 1\t20\t23\t8\t27\t14\t19\t\n",
            "DAY 2\t13\t12\t15\t26\t28\t16\t\n",
            "DAY 3\t3\t1\t29\t30\t18\t2\t\n",
            "DAY 4\t25\t4\t6\t5\t7\t17\t\n",
            "DAY 5\t22\t9\t21\t24\t10\t11\t\n",
            "\n",
            "Solution score: 32\n",
            "\n",
            "LOCAL SEARCH\n",
            "      \tSHOT 1\tSHOT 2\tSHOT 3\tSHOT 4\tSHOT 5\tSHOT 6\n",
            "DAY 1\t9\t23\t6\t12\t13\t29\t\n",
            "DAY 2\t8\t15\t3\t11\t17\t10\t\n",
            "DAY 3\t24\t28\t30\t7\t14\t19\t\n",
            "DAY 4\t20\t25\t22\t5\t1\t26\t\n",
            "DAY 5\t16\t21\t18\t27\t2\t\n",
            "\n",
            "Solution score: 33\n",
            "\n",
            "LOCAL SEARCH (RANDOM INIT)\n",
            "      \tSHOT 1\tSHOT 2\tSHOT 3\tSHOT 4\tSHOT 5\tSHOT 6\n",
            "DAY 1\t20\t23\t5\t27\t6\t28\t\n",
            "DAY 2\t16\t17\t29\t30\t15\t13\t\n",
            "DAY 3\t26\t1\t7\t10\t9\t2\t\n",
            "DAY 4\t8\t19\t14\t18\t11\t21\t\n",
            "DAY 5\t24\t4\t22\t12\t25\t3\t\n",
            "\n",
            "Solution score: 34\n",
            "\n"
          ]
        }
      ],
      "source": [
        "def random_search(shots, max_iter=1e4, seed=None):\n",
        "    \"\"\"\n",
        "    Coste O(k*(m+n^2)) ~ O(n^2)\n",
        "    \"\"\"\n",
        "    best_solution = (None, float('inf'))\n",
        "    current_solution = None\n",
        "    \n",
        "    while max_iter > 0: # O(constante k)\n",
        "        random.seed(seed)\n",
        "        random.shuffle(shots) # o(m)\n",
        "        current_solution = shots\n",
        "        eval_current_solution = eval_function(current_solution) # O(n^2)\n",
        "        if eval_current_solution < best_solution[1]:\n",
        "            best_solution = current_solution, eval_current_solution\n",
        "\n",
        "        max_iter -= 1\n",
        "\n",
        "    return best_solution\n",
        "\n",
        "\n",
        "def local_search(shots, mode=\"shuffle_sublist\", stride=1, list_size=0.2, seed=None):\n",
        "    \"\"\"\n",
        "    Coste O(n*(2n+m*t^2)) ~ O(n^4)\n",
        "    \"\"\"\n",
        "    best_solution = (None, float('inf'))\n",
        "\n",
        "    random.seed(seed)\n",
        "\n",
        "    shots_len = len(shots)\n",
        "    if mode == \"shuffle_sublist\":\n",
        "        list_size = int(list_size*shots_len)\n",
        "\n",
        "        sublist = None\n",
        "        for i in range(1, shots_len, stride): # o(n)\n",
        "            remaining_elements = shots_len-i\n",
        "\n",
        "            # mira si para la sublista se tienen que seleccionar elemnetos \n",
        "            # iniciales y finales de la lista original\n",
        "            if list_size > remaining_elements:\n",
        "                sublist = shots[:list_size-remaining_elements] + shots[i:]\n",
        "                random.shuffle(sublist) # o(n)\n",
        "                sublist = sublist[:list_size-remaining_elements] \\\n",
        "                                 + shots[list_size-remaining_elements+1:i] \\\n",
        "                                 + sublist[list_size-remaining_elements:]\n",
        "            else: # si solo hay que seleccionar elementos finales\n",
        "                sublist = shots[i:]\n",
        "                random.shuffle(sublist) # o(n)\n",
        "                sublist = shots[:i] + sublist\n",
        "            \n",
        "            # se intercanvian los elementos de dos en dos\n",
        "            for j in range(1, len(sublist)-1): # o(m-1) ~ o(m)\n",
        "                for k in range(j+1, len(sublist)): # o(m/2) ~ o(m)\n",
        "                    neighbour = sublist[:j] + [sublist[k]] + sublist[j+1:k] \\\n",
        "                              + [sublist[j]] + sublist[k+1:]\n",
        "\n",
        "                    # evaluación de la función\n",
        "                    eval_neighbour = eval_function(neighbour) # o(t^2)\n",
        "                    if eval_neighbour < best_solution[1]:\n",
        "                        best_solution = neighbour, eval_neighbour\n",
        "\n",
        "    return best_solution\n",
        "\n",
        "\n",
        "random_search_solution = random_search(initial_shots, seed=None)\n",
        "local_search_solution = local_search(initial_shots, seed=None)\n",
        "local_search_rand_solution = local_search(random_search(initial_shots, seed=None)[0], seed=None)\n",
        "\n",
        "print(\"RANDOM SEARCH\")\n",
        "print_solution(random_search_solution)\n",
        "\n",
        "print(\"LOCAL SEARCH\")\n",
        "print_solution(local_search_solution)\n",
        "\n",
        "print(\"LOCAL SEARCH (RANDOM INIT)\")\n",
        "print_solution(local_search_rand_solution)"
      ]
    },
    {
      "cell_type": "markdown",
      "metadata": {
        "id": "ljmvtCFSwb3M"
      },
      "source": [
        "<div style=\"color:orange\">\n",
        "\n",
        "Observamos que tanto el algoritmo de búsqueda local como el de búsqueda aleatoria dan resultados muy similares, esto es debido a que el como está implementado el algoritmo de búsqueda local realmente es como una búsqueda aleatoria de un subconjunto de la solución inicial que se le pase, es por ello que al final se volverá a implementar, pero con una solución inicial proviniente del mejor resultado entregado por el algoritmo de búsqueda genético implementado a continuación, donde por la naturaleza del problema y algoritmo genético, se estima obtener mejores resultados que los obtenidos hasta el momento.\n",
        "\n",
        "En las funciones del algoritmo genético, no se comentan como se han construido ya que están basadas con las que se vieron en la AG3, modificando algunas partes por tal de ajustarlas al problema actual."
      ]
    },
    {
      "cell_type": "code",
      "execution_count": 5,
      "metadata": {
        "colab": {
          "base_uri": "https://localhost:8080/"
        },
        "id": "5s2f3HgAwb3N",
        "outputId": "e9d34cfa-9c51-473a-f03b-f4ce9182a626"
      },
      "outputs": [
        {
          "output_type": "stream",
          "name": "stdout",
          "text": [
            "Generación # 1 \tPuntuación:  32\n",
            "Generación # 20 \tPuntuación:  27\n",
            "Generación # 40 \tPuntuación:  27\n",
            "Generación # 60 \tPuntuación:  26\n",
            "Generación # 80 \tPuntuación:  26\n",
            "Generación # 100 \tPuntuación:  26\n",
            "\n",
            "MEJOR SOLICIÓN\n",
            "      \tSHOT 1\tSHOT 2\tSHOT 3\tSHOT 4\tSHOT 5\tSHOT 6\n",
            "DAY 1\t28\t30\t9\t25\t29\t16\t\n",
            "DAY 2\t27\t2\t1\t20\t22\t5\t\n",
            "DAY 3\t15\t6\t3\t7\t4\t13\t\n",
            "DAY 4\t18\t17\t23\t24\t19\t14\t\n",
            "DAY 5\t10\t12\t8\t11\t26\t21\t\n",
            "\n",
            "Solution score: 26\n",
            "\n"
          ]
        }
      ],
      "source": [
        "def generate_population(N, alleles):\n",
        "  \"\"\"\n",
        "  Coste O(2n·n) ~ O(n^2)\n",
        "  \"\"\"\n",
        "  population = []\n",
        "  chromosome = alleles\n",
        "\n",
        "  for i in range(N): # O(n)\n",
        "      random.shuffle(chromosome) # O(n)\n",
        "      population.append(chromosome.copy()) # O(n)\n",
        "\n",
        "  return population\n",
        "\n",
        "\n",
        "def cross(population, prob_mutation, alleles):\n",
        "  \"\"\"\n",
        "  Coste O(2n+n·m^2) ~O(n^3)\n",
        "  \"\"\"\n",
        "  old_generation = population.copy() # o(n)\n",
        "  new_generation = population.copy() # o(n)\n",
        "\n",
        "  while len(old_generation) > 1: # o(n/2) ~ o(n)\n",
        "      parent1, parent2 = random.sample(old_generation, 2)\n",
        "      old_generation.remove(parent1)\n",
        "      old_generation.remove(parent2)\n",
        "\n",
        "      new_generation.extend(offspring([parent1,parent2], alleles, prob_mutation)) # o(m^2)\n",
        "\n",
        "  return new_generation\n",
        "\n",
        "\n",
        "def offspring(parents, alleles, prob_mutation):\n",
        "  \"\"\"\n",
        "  Coste O(2n^2+n·log(n)) ~ O(n^2)\n",
        "  \"\"\"\n",
        "  cut_point = random.randint(1, len(parents[0])-1)\n",
        "  offspring1 =  make_feasible(parents[0][:cut_point] + parents[1][cut_point:], alleles) # o(n^2)\n",
        "  offspring2 =  make_feasible(parents[1][:cut_point] + parents[0][cut_point:], alleles) # o(n^2)\n",
        "\n",
        "  return [offspring1, offspring2, Mutate(offspring1, prob_mutation), Mutate(offspring2, prob_mutation)] # O(2(n·log(n))) ~ O(n·log(n))\n",
        "\n",
        "\n",
        "def make_feasible(chromosome, alleles):\n",
        "  \"\"\"\n",
        "  Coste O(2n+n*m) ~ o(n^2)\n",
        "  \"\"\"\n",
        "  lost_alleles = list(set(alleles) - set(chromosome)) # o(n)\n",
        "  random.shuffle(lost_alleles) # o(n)\n",
        "\n",
        "  for i in range(len(chromosome)): # o(n)\n",
        "    if chromosome[i] in chromosome[:i]: # delete duplicate alleles # o(m/2) ~ o(m)\n",
        "      chromosome[i] = lost_alleles.pop(0)\n",
        "\n",
        "  return chromosome \n",
        "\n",
        "\n",
        "def Mutate(chromosome, prob_mutation):\n",
        "  \"\"\"\n",
        "  Coste O(n·log(n))\n",
        "  \"\"\"\n",
        "  if random.random() < prob_mutation:\n",
        "    allele1, allele2 = sorted(random.sample(set(chromosome)-{chromosome[0]},2)) # O(n·log(n)+n) ~ O(n·log(n))\n",
        "    allele1, allele2 = allele1-1, allele2-1 \n",
        "\n",
        "    return chromosome[:allele1] + [chromosome[allele2]] + chromosome[allele1+1:allele2] \\\n",
        "           + [chromosome[allele1]]  + chromosome[allele2+1:] \n",
        "  else:\n",
        "    return chromosome\n",
        "\n",
        "\n",
        "def Selection(population, N, percentatge_elitism):\n",
        "  \"\"\"\n",
        "  Coste O(n+m^2) ~ O(n^2)\n",
        "  \"\"\"\n",
        "  sorted_population = [chromosome[1] for chromosome in sorted([[eval_function(chromosome), chromosome] # O(nlog(n)+m^2) ~ O(m^2)\n",
        "                      for chromosome in population ], key= lambda x:x[0] )]\n",
        "  num_elits = int(N*percentatge_elitism)\n",
        "\n",
        "  return sorted_population[:num_elits] +  random.sample(sorted_population[num_elits:], int(N*(1-percentatge_elitism)))  # O(n)\n",
        "\n",
        "\n",
        "def eval_population(population):\n",
        "  \"\"\"\n",
        "  Coste O(m*n^2) ~ O(n^3)\n",
        "  \"\"\"\n",
        "  best_chromosome = [None, float('inf')]\n",
        "\n",
        "  for chromosome in population: # O(m)\n",
        "    chromosome_score = eval_function(chromosome) # O(n^2)\n",
        "    if chromosome_score <= best_chromosome[1]:\n",
        "      best_chromosome = chromosome, chromosome_score\n",
        "\n",
        "  return best_chromosome\n",
        "\n",
        "\n",
        "def genetic_algorithm(alleles, N=100, prob_mutation=.15, percentatge_elitism=.1, generations=100, seed=None, verbose=True):\n",
        "  \"\"\"\n",
        "  Coste O(n^2+n^3+k·(n^3+n^2)) ~ O(k·n^3) ~ O(n^3)\n",
        "  \"\"\"\n",
        "  random.seed(seed)\n",
        "\n",
        "  population = generate_population(N, alleles) # O(n^2)\n",
        "  best_solution = eval_population(population) # O(n^3)\n",
        "\n",
        "  generation = 1\n",
        "  while(generation < generations+1): # O(constante k)\n",
        "    population = cross(population, prob_mutation, alleles) # O(n^3)\n",
        "    population = Selection(population, N, percentatge_elitism) # O(n^2)\n",
        "      \n",
        "    best_solution = eval_population(population) # # O(n^3)\n",
        "\n",
        "    if verbose == 2 and generation == 1:\n",
        "      print(\"Generación #\", generation, f'\\n{\"#\"*54}')\n",
        "      print_solution(best_solution)\n",
        "    elif verbose > 2:\n",
        "      print(\"Generación #\", generation, f'\\n{\"#\"*54}')\n",
        "      print_solution(best_solution)\n",
        "    elif verbose == 1 and not generation%20 or generation == 1 or generation==generations:\n",
        "      print(\"Generación #\", generation, '\\tPuntuación: ', best_solution[1])\n",
        "\n",
        "    generation += 1\n",
        "    \n",
        "  return best_solution\n",
        "\n",
        "\n",
        "# En comentarios (#) hay los valores obtenidos por distintas ejecuciones del algoritmo con distintas seeds y parámetros iniciales\n",
        "SEED = 33 #33, 55 --> 26 #777, 111, 222 333, 555, 22, 66, 88, 99, 999 --> 27 # others 28 o 29\n",
        "N = 500 #1000, 50, 100, 200\n",
        "generations = 100 #50, 200, 500\n",
        "prob_mutation = 0.15 #0, 0.05, 0.2, 0.5, 0.8\n",
        "percentatge_elitism = .5 #.1, .05, 0, 0.2, 0.8 \n",
        "\n",
        "alleles = [i for i in range(1, NUM_SHOTS+1)]\n",
        "genetic_algorithm_solution = genetic_algorithm(alleles, prob_mutation=prob_mutation, \n",
        "        percentatge_elitism=percentatge_elitism, N=N, generations=generations, \n",
        "        seed=SEED, verbose=1)\n",
        "\n",
        "print(\"\\nMEJOR SOLICIÓN\")\n",
        "print_solution(genetic_algorithm_solution)"
      ]
    },
    {
      "cell_type": "code",
      "execution_count": 6,
      "metadata": {
        "colab": {
          "base_uri": "https://localhost:8080/"
        },
        "id": "MyD-XiKGwb3N",
        "outputId": "6541cc88-c61b-41da-a342-20d95a94c472"
      },
      "outputs": [
        {
          "output_type": "stream",
          "name": "stdout",
          "text": [
            "BRUTE FORECE\n",
            "Solution score: 36\n",
            "\n",
            "RANDOM SEARCH\n",
            "Solution score: 32\n",
            "\n",
            "LOCAL SEARCH\n",
            "Solution score: 33\n",
            "\n",
            "LOCAL SEARCH (RANDOM INIT)\n",
            "Solution score: 34\n",
            "\n",
            "GENETIC ALGORITHM\n",
            "Solution score: 26\n",
            "\n"
          ]
        }
      ],
      "source": [
        "print(f\"BRUTE FORECE\", end=\"\")\n",
        "print_solution(brute_force_solution, verbose=False)\n",
        "\n",
        "print(f\"RANDOM SEARCH\", end=\"\")\n",
        "print_solution(random_search_solution, verbose=False)\n",
        "\n",
        "print(f\"LOCAL SEARCH\", end=\"\")\n",
        "print_solution(local_search_solution, verbose=False)\n",
        "\n",
        "print(f\"LOCAL SEARCH (RANDOM INIT)\", end=\"\")\n",
        "print_solution(local_search_rand_solution, verbose=False)\n",
        "\n",
        "print(f\"GENETIC ALGORITHM\", end=\"\")\n",
        "print_solution(genetic_algorithm_solution, verbose=False)"
      ]
    },
    {
      "cell_type": "markdown",
      "metadata": {
        "id": "WhkSB9PIwb3O"
      },
      "source": [
        "<div style=\"color:orange\">\n",
        "\n",
        "Vemos que, efectivamente, el algoritmo genético nos da un mejor resultado. Esto es debido a que respecto a los demás algoritmos, ahora en cada iteración o generación se guardan loa mejores resultados obtenidos hasta el momento, y, en la siguiente iteración, se usan estos para calcular otras posibles soluciones pero que sean similares a las previamente ya obtenidas, de esta forma, no se estará dispersando la búsqueda continuamente sino que el algoritmo acabará por converger aunque sea en un mínimo local.\n",
        "\n",
        "A continuación, como se dijo, se intentará combinar el resultado encontrado por el algoritmo genético con una búsqueda local por tal de ver si se pudieran mejorar aún más los resultados."
      ]
    },
    {
      "cell_type": "code",
      "execution_count": null,
      "metadata": {
        "id": "IItUK0gQwb3O"
      },
      "outputs": [],
      "source": [
        "local_search_genetic_algorithm_solution = local_search(genetic_algorithm_solution[0])\n",
        "\n",
        "print(f\"GENETIC ALGORITHM\", end=\"\")\n",
        "print_solution(genetic_algorithm_solution, verbose=False)\n",
        "\n",
        "print(f\"LOCAL SEARCH WITH GENETIC ALGORITHM\", end=\"\")\n",
        "print_solution(local_search_genetic_algorithm_solution, verbose=False)"
      ]
    },
    {
      "cell_type": "markdown",
      "metadata": {
        "id": "Gq6vAH8qwb3P"
      },
      "source": [
        "<div style=\"color:orange\">\n",
        "\n",
        "Podemos observar que no hemos sido capaces de mejorar el resultado, por ende, y teniendo en cuenta que el algoritmo genético ya se ejecutó muchas veces, probando con distintas semillas y configuraciones de parámetros distintos, donde siempre se obtenia una puntuación entre 26 y 29, podemos concluir que con dichas técnicas o algoritmos y el problema actual de actores de rodaje, no se debería de poder obtener una solución mucho mejor."
      ]
    },
    {
      "cell_type": "markdown",
      "metadata": {
        "id": "eGDB4K6uk1iN"
      },
      "source": [
        "(*)Calcula la complejidad del algoritmo "
      ]
    },
    {
      "cell_type": "markdown",
      "metadata": {
        "id": "NhpTh_BPk1ms"
      },
      "source": [
        "Respuesta"
      ]
    },
    {
      "cell_type": "markdown",
      "metadata": {
        "id": "nREzhkStlCq8"
      },
      "source": [
        "<div style=\"color:orange\">\n",
        "\n",
        "Las complejidades de los distintos algoritmos que se han ido utilizando están meniconadas al principio de cada función, y justificadas a lo largo de ella con diversos comentarios. La complejidad del algoritmo principal, el genético, es de O(n^3)."
      ]
    },
    {
      "cell_type": "markdown",
      "metadata": {
        "id": "3M6QjTsSkmYe"
      },
      "source": [
        "Según el problema (y tenga sentido), diseña un juego de datos de entrada aleatorios"
      ]
    },
    {
      "cell_type": "markdown",
      "metadata": {
        "id": "Jc3_OlyNkvjZ"
      },
      "source": [
        "Respuesta"
      ]
    },
    {
      "cell_type": "markdown",
      "metadata": {
        "id": "sJ-N2etjkyWc"
      },
      "source": [
        "<div style=\"color:orange\">\n",
        "\n",
        "Ya está hecho dentro de las funciones y/o algoritmos con los comandos: random.sample(), random.shuffle() o itertools.permutations()"
      ]
    },
    {
      "cell_type": "markdown",
      "metadata": {
        "id": "zy5ZROmjlGo1"
      },
      "source": [
        "Aplica el algoritmo al juego de datos generado"
      ]
    },
    {
      "cell_type": "markdown",
      "metadata": {
        "id": "_Cmj-PVylMsa"
      },
      "source": [
        "Respuesta"
      ]
    },
    {
      "cell_type": "markdown",
      "metadata": {
        "id": "Jkx8GeiYlUz1"
      },
      "source": [
        "<div style=\"color:orange\">\n",
        "\n",
        "Ya está hecho dentro de las funciones y/o algoritmos con los comandos: random.sample(), random.shuffle() o itertools.permutations()"
      ]
    },
    {
      "cell_type": "markdown",
      "metadata": {
        "id": "eTFWUJQrtGcv"
      },
      "source": [
        "Enumera las referencias que has utilizado(si ha sido necesario) para llevar a cabo el trabajo"
      ]
    },
    {
      "cell_type": "markdown",
      "metadata": {
        "id": "YKQ_mRBttWsP"
      },
      "source": [
        "Respuesta"
      ]
    },
    {
      "cell_type": "markdown",
      "metadata": {
        "id": "qbMB3mGVwb3T"
      },
      "source": [
        "<div style=\"color:orange\">\n",
        "\n",
        "- https://wiki.python.org/moin/TimeComplexity --> Para sabere el orden de complejiad de algunas funciones de python\n",
        "- Foros varios --> Para sabere el orden de complejiad de algunas funciones de python de la librería random\n",
        "- Apuntes de clase y actividad guiada 3 --> Para el diseño del algoritmo genético y pensamiento de la estructura de datos que debia tener el problema, así como para seleccionar el algorítmo adecuado."
      ]
    },
    {
      "cell_type": "markdown",
      "metadata": {
        "id": "kAkDPUyRtYyH"
      },
      "source": [
        "Describe brevemente las lineas de como crees que es posible avanzar en el estudio del problema. Ten en cuenta incluso posibles variaciones del problema y/o variaciones al alza del tamaño"
      ]
    },
    {
      "cell_type": "markdown",
      "metadata": {
        "id": "IE0uZmo-tZu-"
      },
      "source": [
        "Respuesta"
      ]
    },
    {
      "cell_type": "markdown",
      "metadata": {
        "id": "bf7l_3Yhwb3U"
      },
      "source": [
        "<div style=\"color:orange\">\n",
        "\n",
        "- Ampliar o disminuir el número máximo de tomas diarias.\n",
        "- Poner un mínimo de tomas diarias en lugar de un máximo.\n",
        "- Hacer que algunos actores cobren más que otros.\n",
        "- Hacer que algunos actores solo puedan venir algunos dias en concreto.\n",
        "- Añadir horas máximas diarias por actor y poner duración en cada toma.\n",
        "- Añadir horarios, tanto de tomas como de actores.\n",
        "- Etcétera."
      ]
    }
  ],
  "metadata": {
    "colab": {
      "collapsed_sections": [],
      "name": "Seminario_Algoritmos.ipynb",
      "provenance": [],
      "include_colab_link": true
    },
    "kernelspec": {
      "display_name": "Python 3",
      "name": "python3"
    },
    "language_info": {
      "codemirror_mode": {
        "name": "ipython",
        "version": 3
      },
      "file_extension": ".py",
      "mimetype": "text/x-python",
      "name": "python",
      "nbconvert_exporter": "python",
      "pygments_lexer": "ipython3",
      "version": "3.8.5"
    }
  },
  "nbformat": 4,
  "nbformat_minor": 0
}